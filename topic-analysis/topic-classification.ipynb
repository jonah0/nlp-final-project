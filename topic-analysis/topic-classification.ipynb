{
 "cells": [
  {
   "cell_type": "code",
   "execution_count": 1,
   "metadata": {},
   "outputs": [],
   "source": [
    "import nltk\n",
    "import pandas as pd\n",
    "import spacy\n",
    "from sklearn import svm\n",
    "from sklearn.feature_extraction.text import CountVectorizer, TfidfVectorizer\n",
    "from sklearn.linear_model import LogisticRegression\n",
    "from sklearn.metrics import classification_report\n",
    "from sklearn.model_selection import train_test_split\n",
    "from sklearn.pipeline import Pipeline\n",
    "from spacy.lang.en.stop_words import STOP_WORDS"
   ]
  },
  {
   "cell_type": "code",
   "execution_count": null,
   "metadata": {},
   "outputs": [],
   "source": [
    "# prepare training dataset\n",
    "print(\"Compiling training datasets...\")\n",
    "movie_df = pd.read_csv('./topic-datasets/movie_reviews.csv')\n",
    "movie_df['topic'] = 'movie'\n",
    "movie_df\n",
    "\n",
    "restaurant_df = pd.read_csv(\n",
    "    './topic-datasets/restaurant-reviews.tsv', sep='\\t')\n",
    "restaurant_df['text'] = restaurant_df['Review']\n",
    "restaurant_df['topic'] = 'restaurant'\n",
    "restaurant_df\n",
    "\n",
    "book_df = pd.read_csv('./topic-datasets/book-reviews.csv')\n",
    "book_df['text'] = book_df['ReviewContent']\n",
    "book_df['topic'] = 'book'\n",
    "book_df\n",
    "\n",
    "# even out the number of instances of each topic\n",
    "lowest_num_rows = min([len(movie_df), len(restaurant_df), len(book_df)])\n",
    "mixed_df = pd.concat([\n",
    "    movie_df[['text', 'topic']].sample(lowest_num_rows, axis='index'),\n",
    "    restaurant_df[['text', 'topic']].sample(lowest_num_rows, axis='index'),\n",
    "    book_df[['text', 'topic']].sample(lowest_num_rows, axis='index'),\n",
    "])\n",
    "mixed_df.to_csv('./topic-datasets/mixed-reviews.csv')"
   ]
  },
  {
   "cell_type": "code",
   "execution_count": 2,
   "metadata": {},
   "outputs": [
    {
     "data": {
      "text/html": [
       "<div>\n",
       "<style scoped>\n",
       "    .dataframe tbody tr th:only-of-type {\n",
       "        vertical-align: middle;\n",
       "    }\n",
       "\n",
       "    .dataframe tbody tr th {\n",
       "        vertical-align: top;\n",
       "    }\n",
       "\n",
       "    .dataframe thead th {\n",
       "        text-align: right;\n",
       "    }\n",
       "</style>\n",
       "<table border=\"1\" class=\"dataframe\">\n",
       "  <thead>\n",
       "    <tr style=\"text-align: right;\">\n",
       "      <th></th>\n",
       "      <th>Unnamed: 0</th>\n",
       "      <th>text</th>\n",
       "      <th>topic</th>\n",
       "    </tr>\n",
       "  </thead>\n",
       "  <tbody>\n",
       "    <tr>\n",
       "      <th>0</th>\n",
       "      <td>17933</td>\n",
       "      <td>\" well , there's mr . myagi . . . \"</td>\n",
       "      <td>movie</td>\n",
       "    </tr>\n",
       "    <tr>\n",
       "      <th>1</th>\n",
       "      <td>42520</td>\n",
       "      <td>for ever , i sat in anticipation for a decent ...</td>\n",
       "      <td>movie</td>\n",
       "    </tr>\n",
       "    <tr>\n",
       "      <th>2</th>\n",
       "      <td>62218</td>\n",
       "      <td>it even shows them in bed together .</td>\n",
       "      <td>movie</td>\n",
       "    </tr>\n",
       "    <tr>\n",
       "      <th>3</th>\n",
       "      <td>48179</td>\n",
       "      <td>schwarzenegger is awful , i mean really , real...</td>\n",
       "      <td>movie</td>\n",
       "    </tr>\n",
       "    <tr>\n",
       "      <th>4</th>\n",
       "      <td>11546</td>\n",
       "      <td>rose goes out onto the ship's ledge , and we t...</td>\n",
       "      <td>movie</td>\n",
       "    </tr>\n",
       "    <tr>\n",
       "      <th>...</th>\n",
       "      <td>...</td>\n",
       "      <td>...</td>\n",
       "      <td>...</td>\n",
       "    </tr>\n",
       "    <tr>\n",
       "      <th>2995</th>\n",
       "      <td>2025</td>\n",
       "      <td>A good read from the first page.  It is a myst...</td>\n",
       "      <td>book</td>\n",
       "    </tr>\n",
       "    <tr>\n",
       "      <th>2996</th>\n",
       "      <td>2939</td>\n",
       "      <td>It's the same thing over and over and over! \"I...</td>\n",
       "      <td>book</td>\n",
       "    </tr>\n",
       "    <tr>\n",
       "      <th>2997</th>\n",
       "      <td>4625</td>\n",
       "      <td>The first third of the book I found ponderous,...</td>\n",
       "      <td>book</td>\n",
       "    </tr>\n",
       "    <tr>\n",
       "      <th>2998</th>\n",
       "      <td>2293</td>\n",
       "      <td>The plot was intriguing with well developed ch...</td>\n",
       "      <td>book</td>\n",
       "    </tr>\n",
       "    <tr>\n",
       "      <th>2999</th>\n",
       "      <td>4566</td>\n",
       "      <td>I couldn't wait to get through this book and s...</td>\n",
       "      <td>book</td>\n",
       "    </tr>\n",
       "  </tbody>\n",
       "</table>\n",
       "<p>3000 rows × 3 columns</p>\n",
       "</div>"
      ],
      "text/plain": [
       "      Unnamed: 0                                               text  topic\n",
       "0          17933                \" well , there's mr . myagi . . . \"  movie\n",
       "1          42520  for ever , i sat in anticipation for a decent ...  movie\n",
       "2          62218               it even shows them in bed together .  movie\n",
       "3          48179  schwarzenegger is awful , i mean really , real...  movie\n",
       "4          11546  rose goes out onto the ship's ledge , and we t...  movie\n",
       "...          ...                                                ...    ...\n",
       "2995        2025  A good read from the first page.  It is a myst...   book\n",
       "2996        2939  It's the same thing over and over and over! \"I...   book\n",
       "2997        4625  The first third of the book I found ponderous,...   book\n",
       "2998        2293  The plot was intriguing with well developed ch...   book\n",
       "2999        4566  I couldn't wait to get through this book and s...   book\n",
       "\n",
       "[3000 rows x 3 columns]"
      ]
     },
     "execution_count": 2,
     "metadata": {},
     "output_type": "execute_result"
    }
   ],
   "source": [
    "dataset = pd.read_csv('./topic-datasets/mixed-reviews.csv')\n",
    "dataset"
   ]
  },
  {
   "cell_type": "code",
   "execution_count": 3,
   "metadata": {},
   "outputs": [
    {
     "name": "stderr",
     "output_type": "stream",
     "text": [
      "/Users/jonah/miniconda3/envs/nlp/lib/python3.10/site-packages/sklearn/feature_extraction/text.py:528: UserWarning: The parameter 'token_pattern' will not be used since 'tokenizer' is not None'\n",
      "  warnings.warn(\n"
     ]
    }
   ],
   "source": [
    "vectorizer = TfidfVectorizer(min_df=1, tokenizer=nltk.word_tokenize)\n",
    "vectorizer.fit(dataset['text']) # fit vectorizer to all data\n",
    "\n",
    "# split dataframe into train and test data\n",
    "train, test = train_test_split(dataset, test_size=0.1)\n",
    "\n",
    "# vectorize data\n",
    "train_vectors = vectorizer.transform(train['text'])\n",
    "test_vectors = vectorizer.transform(test['text'])"
   ]
  },
  {
   "cell_type": "code",
   "execution_count": 4,
   "metadata": {},
   "outputs": [
    {
     "name": "stdout",
     "output_type": "stream",
     "text": [
      "              precision    recall  f1-score   support\n",
      "\n",
      "        book       0.99      0.96      0.98       105\n",
      "       movie       0.91      0.93      0.92       100\n",
      "  restaurant       0.91      0.92      0.91        95\n",
      "\n",
      "    accuracy                           0.94       300\n",
      "   macro avg       0.94      0.94      0.94       300\n",
      "weighted avg       0.94      0.94      0.94       300\n",
      "\n"
     ]
    }
   ],
   "source": [
    "# train a linear classifier\n",
    "lsvc = svm.LinearSVC()\n",
    "lsvc.fit(train_vectors, train['topic'])\n",
    "\n",
    "# make predictions and generate classification report\n",
    "y_pred = lsvc.predict(test_vectors)\n",
    "print(classification_report(test['topic'], y_pred))"
   ]
  },
  {
   "cell_type": "code",
   "execution_count": 6,
   "metadata": {},
   "outputs": [
    {
     "name": "stdout",
     "output_type": "stream",
     "text": [
      "              precision    recall  f1-score   support\n",
      "\n",
      "        book       1.00      1.00      1.00         2\n",
      "       movie       0.83      1.00      0.91         5\n",
      "  restaurant       1.00      0.67      0.80         3\n",
      "\n",
      "    accuracy                           0.90        10\n",
      "   macro avg       0.94      0.89      0.90        10\n",
      "weighted avg       0.92      0.90      0.89        10\n",
      "\n"
     ]
    }
   ],
   "source": [
    "official_test_df = pd.read_csv('./test-datasets/sentiment-topic-final-test.tsv', sep='\\t')\n",
    "official_test_vectors = vectorizer.transform(official_test_df['text'])\n",
    "\n",
    "# make predictions and generate classification report\n",
    "official_y_pred = lsvc.predict(official_test_vectors)\n",
    "print(classification_report(official_test_df['topic'], official_y_pred))"
   ]
  },
  {
   "cell_type": "code",
   "execution_count": 7,
   "metadata": {},
   "outputs": [
    {
     "data": {
      "text/html": [
       "<div>\n",
       "<style scoped>\n",
       "    .dataframe tbody tr th:only-of-type {\n",
       "        vertical-align: middle;\n",
       "    }\n",
       "\n",
       "    .dataframe tbody tr th {\n",
       "        vertical-align: top;\n",
       "    }\n",
       "\n",
       "    .dataframe thead th {\n",
       "        text-align: right;\n",
       "    }\n",
       "</style>\n",
       "<table border=\"1\" class=\"dataframe\">\n",
       "  <thead>\n",
       "    <tr style=\"text-align: right;\">\n",
       "      <th></th>\n",
       "      <th>text</th>\n",
       "      <th>topic</th>\n",
       "      <th>topic_pred</th>\n",
       "    </tr>\n",
       "  </thead>\n",
       "  <tbody>\n",
       "    <tr>\n",
       "      <th>0</th>\n",
       "      <td>It took eight years for Warner Brothers to rec...</td>\n",
       "      <td>movie</td>\n",
       "      <td>movie</td>\n",
       "    </tr>\n",
       "    <tr>\n",
       "      <th>1</th>\n",
       "      <td>All the New York University students love this...</td>\n",
       "      <td>restaurant</td>\n",
       "      <td>movie</td>\n",
       "    </tr>\n",
       "    <tr>\n",
       "      <th>2</th>\n",
       "      <td>This Italian place is really trendy but they h...</td>\n",
       "      <td>restaurant</td>\n",
       "      <td>restaurant</td>\n",
       "    </tr>\n",
       "    <tr>\n",
       "      <th>3</th>\n",
       "      <td>In conclusion, my review of this book would be...</td>\n",
       "      <td>book</td>\n",
       "      <td>book</td>\n",
       "    </tr>\n",
       "    <tr>\n",
       "      <th>4</th>\n",
       "      <td>The story of this movie is focused on Carl Bra...</td>\n",
       "      <td>movie</td>\n",
       "      <td>movie</td>\n",
       "    </tr>\n",
       "    <tr>\n",
       "      <th>5</th>\n",
       "      <td>Chris O'Donnell stated that while filming for ...</td>\n",
       "      <td>movie</td>\n",
       "      <td>movie</td>\n",
       "    </tr>\n",
       "    <tr>\n",
       "      <th>6</th>\n",
       "      <td>My husband and I moved to Amsterdam 6 years ag...</td>\n",
       "      <td>restaurant</td>\n",
       "      <td>restaurant</td>\n",
       "    </tr>\n",
       "    <tr>\n",
       "      <th>7</th>\n",
       "      <td>Dame Maggie Smith performed her role excellent...</td>\n",
       "      <td>movie</td>\n",
       "      <td>movie</td>\n",
       "    </tr>\n",
       "    <tr>\n",
       "      <th>8</th>\n",
       "      <td>The new movie by Mr. Kruno was shot in New Yor...</td>\n",
       "      <td>movie</td>\n",
       "      <td>movie</td>\n",
       "    </tr>\n",
       "    <tr>\n",
       "      <th>9</th>\n",
       "      <td>I always have loved English novels, but I just...</td>\n",
       "      <td>book</td>\n",
       "      <td>book</td>\n",
       "    </tr>\n",
       "  </tbody>\n",
       "</table>\n",
       "</div>"
      ],
      "text/plain": [
       "                                                text       topic  topic_pred\n",
       "0  It took eight years for Warner Brothers to rec...       movie       movie\n",
       "1  All the New York University students love this...  restaurant       movie\n",
       "2  This Italian place is really trendy but they h...  restaurant  restaurant\n",
       "3  In conclusion, my review of this book would be...        book        book\n",
       "4  The story of this movie is focused on Carl Bra...       movie       movie\n",
       "5  Chris O'Donnell stated that while filming for ...       movie       movie\n",
       "6  My husband and I moved to Amsterdam 6 years ag...  restaurant  restaurant\n",
       "7  Dame Maggie Smith performed her role excellent...       movie       movie\n",
       "8  The new movie by Mr. Kruno was shot in New Yor...       movie       movie\n",
       "9  I always have loved English novels, but I just...        book        book"
      ]
     },
     "execution_count": 7,
     "metadata": {},
     "output_type": "execute_result"
    }
   ],
   "source": [
    "official_test_df['topic_pred'] = official_y_pred\n",
    "official_test_df[['text', 'topic', 'topic_pred']]"
   ]
  },
  {
   "cell_type": "code",
   "execution_count": 8,
   "metadata": {},
   "outputs": [
    {
     "data": {
      "text/plain": [
       "array(['movie'], dtype=object)"
      ]
     },
     "execution_count": 8,
     "metadata": {},
     "output_type": "execute_result"
    }
   ],
   "source": [
    "test_string = \"\"\"\n",
    "Write anything here to classify it as one of the 3 topics \n",
    "\"\"\"\n",
    "\n",
    "test_vector = vectorizer.transform([test_string])\n",
    "prediction = lsvc.predict(test_vector)\n",
    "prediction"
   ]
  }
 ],
 "metadata": {
  "kernelspec": {
   "display_name": "nlp",
   "language": "python",
   "name": "python3"
  },
  "language_info": {
   "codemirror_mode": {
    "name": "ipython",
    "version": 3
   },
   "file_extension": ".py",
   "mimetype": "text/x-python",
   "name": "python",
   "nbconvert_exporter": "python",
   "pygments_lexer": "ipython3",
   "version": "3.10.9"
  },
  "orig_nbformat": 4
 },
 "nbformat": 4,
 "nbformat_minor": 2
}
